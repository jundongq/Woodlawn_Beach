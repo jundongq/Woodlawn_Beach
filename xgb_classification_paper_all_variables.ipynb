{
 "cells": [
  {
   "cell_type": "code",
   "execution_count": 1,
   "metadata": {},
   "outputs": [],
   "source": [
    "import numpy as np \n",
    "import pandas as pd \n",
    "import xgboost as xgb\n",
    "\n",
    "# Import classifiers\n",
    "from xgboost.sklearn import XGBClassifier\n",
    "from sklearn.tree import DecisionTreeClassifier\n",
    "from sklearn.ensemble import RandomForestClassifier\n",
    "\n",
    "# Import environments and plotting libraries\n",
    "import os\n",
    "import getpass\n",
    "import seaborn as sns\n",
    "import matplotlib.pylab as plt\n",
    "\n",
    "# Import metrics\n",
    "from sklearn.model_selection import train_test_split, GridSearchCV\n",
    "from sklearn.metrics import classification_report, accuracy_score, r2_score, confusion_matrix, auc\n",
    "from sklearn.metrics import precision_recall_curve, auc, average_precision_score\n",
    "\n",
    "# Import synthetic data methods\n",
    "from imblearn.over_sampling import SMOTE, BorderlineSMOTE, ADASYN\n",
    "\n",
    "# Save models\n",
    "import dill as pickle"
   ]
  },
  {
   "cell_type": "code",
   "execution_count": 2,
   "metadata": {},
   "outputs": [],
   "source": [
    "% matplotlib inline"
   ]
  },
  {
   "cell_type": "markdown",
   "metadata": {},
   "source": [
    "### Import Data"
   ]
  },
  {
   "cell_type": "code",
   "execution_count": 32,
   "metadata": {},
   "outputs": [],
   "source": [
    "# Import Data\n",
    "DATA_DIR ='/Users/{}/Dropbox/VirtualBeach/Regression'.format(getpass.getuser())\n",
    "train_eval_test_1 = pd.read_csv(os.path.join(DATA_DIR, 'Woodlawn_Jundong_2008-2016.csv'), header='infer', sep=',', index_col=0)\n",
    "train_eval_test_1.reindex(range(len(train_eval_test_1)))\n",
    "\n",
    "train_eval_test_2 = pd.read_csv(os.path.join(DATA_DIR, 'Woodlawn_Jundong_2017.csv'), header='infer', sep=',', index_col=0)\n",
    "train_eval_test_2.reindex(range(len(train_eval_test_2)))\n",
    "\n",
    "train_eval_test_3 = pd.read_csv(os.path.join(DATA_DIR, 'Woodlawn_Jundong_2018.csv'), header='infer', sep=',', index_col=0)\n",
    "train_eval_test_3.reindex(range(len(train_eval_test_3)))\n",
    "\n",
    "train_eval_test = pd.concat([train_eval_test_1, train_eval_test_2, train_eval_test_3], axis=0, ignore_index=True)"
   ]
  },
  {
   "cell_type": "code",
   "execution_count": 33,
   "metadata": {},
   "outputs": [
    {
     "data": {
      "text/plain": [
       "(617, 45)"
      ]
     },
     "execution_count": 33,
     "metadata": {},
     "output_type": "execute_result"
    }
   ],
   "source": [
    "train_eval_test.shape"
   ]
  },
  {
   "cell_type": "code",
   "execution_count": 34,
   "metadata": {},
   "outputs": [
    {
     "data": {
      "text/html": [
       "<div>\n",
       "<style scoped>\n",
       "    .dataframe tbody tr th:only-of-type {\n",
       "        vertical-align: middle;\n",
       "    }\n",
       "\n",
       "    .dataframe tbody tr th {\n",
       "        vertical-align: top;\n",
       "    }\n",
       "\n",
       "    .dataframe thead th {\n",
       "        text-align: right;\n",
       "    }\n",
       "</style>\n",
       "<table border=\"1\" class=\"dataframe\">\n",
       "  <thead>\n",
       "    <tr style=\"text-align: right;\">\n",
       "      <th></th>\n",
       "      <th>Date</th>\n",
       "      <th>LOG10</th>\n",
       "      <th>Stream_Ght_ft</th>\n",
       "      <th>Stream_Ght_PreDay</th>\n",
       "      <th>Stream_Turb_NTU</th>\n",
       "      <th>Stream_Turb_PreDay</th>\n",
       "      <th>WaveHt_Ft</th>\n",
       "      <th>Lake_Turb_NTU</th>\n",
       "      <th>Lake_Temp_C</th>\n",
       "      <th>Air_Temp_C</th>\n",
       "      <th>...</th>\n",
       "      <th>EvWater_24hr</th>\n",
       "      <th>NvWater_24hr</th>\n",
       "      <th>Angle_v_24hr</th>\n",
       "      <th>Magnitude_24hr</th>\n",
       "      <th>Parallel_Current_24hr</th>\n",
       "      <th>Parallel_WaveHt_24hr</th>\n",
       "      <th>Parallel_WaveDir_24hr</th>\n",
       "      <th>Perp_Current_24hr</th>\n",
       "      <th>Perp_WaveHt_24hr</th>\n",
       "      <th>Perp_WaveDir_24hr</th>\n",
       "    </tr>\n",
       "  </thead>\n",
       "  <tbody>\n",
       "    <tr>\n",
       "      <th>612</th>\n",
       "      <td>7/13/18</td>\n",
       "      <td>1.778151</td>\n",
       "      <td>2.20</td>\n",
       "      <td>0.11</td>\n",
       "      <td>22.75</td>\n",
       "      <td>-5.10</td>\n",
       "      <td>1.0</td>\n",
       "      <td>2.160</td>\n",
       "      <td>22.0</td>\n",
       "      <td>18.0</td>\n",
       "      <td>...</td>\n",
       "      <td>0.024549</td>\n",
       "      <td>-0.017854</td>\n",
       "      <td>116.501322</td>\n",
       "      <td>0.042278</td>\n",
       "      <td>0.017854</td>\n",
       "      <td>-0.097447</td>\n",
       "      <td>-0.570990</td>\n",
       "      <td>-0.024549</td>\n",
       "      <td>-0.139557</td>\n",
       "      <td>-0.668144</td>\n",
       "    </tr>\n",
       "    <tr>\n",
       "      <th>613</th>\n",
       "      <td>7/14/18</td>\n",
       "      <td>2.255273</td>\n",
       "      <td>2.54</td>\n",
       "      <td>0.34</td>\n",
       "      <td>20.40</td>\n",
       "      <td>-2.35</td>\n",
       "      <td>5.0</td>\n",
       "      <td>9.280</td>\n",
       "      <td>23.0</td>\n",
       "      <td>23.0</td>\n",
       "      <td>...</td>\n",
       "      <td>0.053858</td>\n",
       "      <td>0.048752</td>\n",
       "      <td>45.729603</td>\n",
       "      <td>0.075012</td>\n",
       "      <td>-0.048752</td>\n",
       "      <td>-0.143519</td>\n",
       "      <td>-0.720212</td>\n",
       "      <td>-0.053858</td>\n",
       "      <td>-0.120619</td>\n",
       "      <td>-0.574959</td>\n",
       "    </tr>\n",
       "    <tr>\n",
       "      <th>614</th>\n",
       "      <td>7/15/18</td>\n",
       "      <td>2.146128</td>\n",
       "      <td>2.18</td>\n",
       "      <td>-0.36</td>\n",
       "      <td>22.55</td>\n",
       "      <td>2.15</td>\n",
       "      <td>3.0</td>\n",
       "      <td>5.745</td>\n",
       "      <td>23.0</td>\n",
       "      <td>21.0</td>\n",
       "      <td>...</td>\n",
       "      <td>0.063154</td>\n",
       "      <td>0.072350</td>\n",
       "      <td>41.589786</td>\n",
       "      <td>0.097703</td>\n",
       "      <td>-0.072350</td>\n",
       "      <td>-0.171731</td>\n",
       "      <td>-0.573789</td>\n",
       "      <td>-0.063154</td>\n",
       "      <td>-0.242339</td>\n",
       "      <td>-0.799676</td>\n",
       "    </tr>\n",
       "    <tr>\n",
       "      <th>615</th>\n",
       "      <td>7/16/18</td>\n",
       "      <td>1.954243</td>\n",
       "      <td>2.28</td>\n",
       "      <td>0.10</td>\n",
       "      <td>20.75</td>\n",
       "      <td>-1.80</td>\n",
       "      <td>3.0</td>\n",
       "      <td>1.635</td>\n",
       "      <td>24.0</td>\n",
       "      <td>23.5</td>\n",
       "      <td>...</td>\n",
       "      <td>0.045643</td>\n",
       "      <td>0.019391</td>\n",
       "      <td>69.362638</td>\n",
       "      <td>0.061810</td>\n",
       "      <td>-0.019391</td>\n",
       "      <td>-0.080237</td>\n",
       "      <td>-0.451652</td>\n",
       "      <td>-0.045643</td>\n",
       "      <td>-0.155713</td>\n",
       "      <td>-0.861745</td>\n",
       "    </tr>\n",
       "    <tr>\n",
       "      <th>616</th>\n",
       "      <td>7/17/18</td>\n",
       "      <td>2.623249</td>\n",
       "      <td>2.34</td>\n",
       "      <td>0.06</td>\n",
       "      <td>23.45</td>\n",
       "      <td>2.70</td>\n",
       "      <td>6.0</td>\n",
       "      <td>21.750</td>\n",
       "      <td>24.5</td>\n",
       "      <td>22.5</td>\n",
       "      <td>...</td>\n",
       "      <td>0.065574</td>\n",
       "      <td>0.070023</td>\n",
       "      <td>43.158814</td>\n",
       "      <td>0.096663</td>\n",
       "      <td>-0.070023</td>\n",
       "      <td>-0.173710</td>\n",
       "      <td>-0.618994</td>\n",
       "      <td>-0.065574</td>\n",
       "      <td>-0.235451</td>\n",
       "      <td>-0.750616</td>\n",
       "    </tr>\n",
       "  </tbody>\n",
       "</table>\n",
       "<p>5 rows × 45 columns</p>\n",
       "</div>"
      ],
      "text/plain": [
       "        Date     LOG10  Stream_Ght_ft  Stream_Ght_PreDay  Stream_Turb_NTU  \\\n",
       "612  7/13/18  1.778151           2.20               0.11            22.75   \n",
       "613  7/14/18  2.255273           2.54               0.34            20.40   \n",
       "614  7/15/18  2.146128           2.18              -0.36            22.55   \n",
       "615  7/16/18  1.954243           2.28               0.10            20.75   \n",
       "616  7/17/18  2.623249           2.34               0.06            23.45   \n",
       "\n",
       "     Stream_Turb_PreDay  WaveHt_Ft  Lake_Turb_NTU  Lake_Temp_C  Air_Temp_C  \\\n",
       "612               -5.10        1.0          2.160         22.0        18.0   \n",
       "613               -2.35        5.0          9.280         23.0        23.0   \n",
       "614                2.15        3.0          5.745         23.0        21.0   \n",
       "615               -1.80        3.0          1.635         24.0        23.5   \n",
       "616                2.70        6.0         21.750         24.5        22.5   \n",
       "\n",
       "           ...          EvWater_24hr  NvWater_24hr  Angle_v_24hr  \\\n",
       "612        ...              0.024549     -0.017854    116.501322   \n",
       "613        ...              0.053858      0.048752     45.729603   \n",
       "614        ...              0.063154      0.072350     41.589786   \n",
       "615        ...              0.045643      0.019391     69.362638   \n",
       "616        ...              0.065574      0.070023     43.158814   \n",
       "\n",
       "     Magnitude_24hr  Parallel_Current_24hr  Parallel_WaveHt_24hr  \\\n",
       "612        0.042278               0.017854             -0.097447   \n",
       "613        0.075012              -0.048752             -0.143519   \n",
       "614        0.097703              -0.072350             -0.171731   \n",
       "615        0.061810              -0.019391             -0.080237   \n",
       "616        0.096663              -0.070023             -0.173710   \n",
       "\n",
       "     Parallel_WaveDir_24hr  Perp_Current_24hr  Perp_WaveHt_24hr  \\\n",
       "612              -0.570990          -0.024549         -0.139557   \n",
       "613              -0.720212          -0.053858         -0.120619   \n",
       "614              -0.573789          -0.063154         -0.242339   \n",
       "615              -0.451652          -0.045643         -0.155713   \n",
       "616              -0.618994          -0.065574         -0.235451   \n",
       "\n",
       "     Perp_WaveDir_24hr  \n",
       "612          -0.668144  \n",
       "613          -0.574959  \n",
       "614          -0.799676  \n",
       "615          -0.861745  \n",
       "616          -0.750616  \n",
       "\n",
       "[5 rows x 45 columns]"
      ]
     },
     "execution_count": 34,
     "metadata": {},
     "output_type": "execute_result"
    }
   ],
   "source": [
    "train_eval_test.tail()"
   ]
  },
  {
   "cell_type": "code",
   "execution_count": 35,
   "metadata": {},
   "outputs": [],
   "source": [
    "# Binarlie the problem\n",
    "ecoli_threshold = 235.\n",
    "X = train_eval_test.iloc[:,2:].copy()\n",
    "y = train_eval_test.iloc[:,1].copy().apply(lambda x: 1 if x>=np.log10(ecoli_threshold) else 0)\n",
    "\n",
    "# Set random seed\n",
    "rand_seed = 456\n",
    "X_train_val, X_test, y_train_val, y_test = train_test_split(X, y, test_size = 0.2, stratify=y, random_state=rand_seed)\n",
    "# X_train , X_val, y_train, y_val = train_test_split(X_train_val, y_train_val, test_size = 0.15, stratify=y_train_val, random_state=rand_seed)"
   ]
  },
  {
   "cell_type": "code",
   "execution_count": 40,
   "metadata": {},
   "outputs": [],
   "source": [
    "# Oversampling using SMOTE\n",
    "# # sm = BorderlineSMOTE(random_state=456, kind='borderline-1')\n",
    "# sm = ADASYN(random_state=456)\n",
    "sm = SMOTE(random_state=456)\n",
    "X_res, y_res = sm.fit_sample(X_train_val, y_train_val) # return X_res, y_res as np.array\n",
    "X_res_df = pd.DataFrame(data=X_res, columns = X_train_val.columns)\n",
    "y_res_Series = pd.Series(data=y_res)"
   ]
  },
  {
   "cell_type": "code",
   "execution_count": 42,
   "metadata": {},
   "outputs": [
    {
     "name": "stdout",
     "output_type": "stream",
     "text": [
      "493 samples before applying SMOTE\n",
      "712 samples after applying SMOTE\n"
     ]
    }
   ],
   "source": [
    "print (\"%d samples before applying SMOTE\" % X_train_val.shape[0])\n",
    "print (\"%d samples after applying SMOTE\" % X_res_df.shape[0])"
   ]
  },
  {
   "cell_type": "code",
   "execution_count": 43,
   "metadata": {},
   "outputs": [
    {
     "name": "stdout",
     "output_type": "stream",
     "text": [
      "0.277890466531\n",
      "0.5\n"
     ]
    }
   ],
   "source": [
    "print sum(y_train_val)/float(len(y_train_val))\n",
    "print sum(y_res)/float(len(y_res))"
   ]
  },
  {
   "cell_type": "code",
   "execution_count": 44,
   "metadata": {},
   "outputs": [
    {
     "name": "stdout",
     "output_type": "stream",
     "text": [
      "Positive ratio: 0.2788\n"
     ]
    }
   ],
   "source": [
    "pos_rate = sum(y)/float(len(y))\n",
    "print (\"Positive ratio: %0.4f\" % pos_rate)"
   ]
  },
  {
   "cell_type": "markdown",
   "metadata": {},
   "source": [
    "### Esimators: XGB, DT, RandomForest"
   ]
  },
  {
   "cell_type": "code",
   "execution_count": 54,
   "metadata": {},
   "outputs": [],
   "source": [
    "# XGB\n",
    "xgb_with_SMOTE = XGBClassifier( \n",
    "                                learning_rate =0.1, \n",
    "                                 n_estimators=2000\n",
    "                               , max_depth=5\n",
    "                               , min_child_weight=1\n",
    "                               , gamma=0.2\n",
    "                               , subsample=0.8\n",
    "                               , colsample_bytree=0.8\n",
    "                               , reg_alpha=0.01\n",
    "                               , reg_lambda=0.01\n",
    "                               , objective= 'binary:logistic'\n",
    "                               , n_jobs=4\n",
    "                               , \n",
    "                                random_state=456)\n",
    "\n",
    "# Decision Tree\n",
    "dt_with_SMOTE = DecisionTreeClassifier(max_depth=5, random_state=456)\n",
    "\n",
    "# Random Forest\n",
    "rf_with_SMOTE = RandomForestClassifier(max_depth=5, random_state=456)"
   ]
  },
  {
   "cell_type": "code",
   "execution_count": 55,
   "metadata": {},
   "outputs": [],
   "source": [
    "# XGB\n",
    "xgb_no_SMOTE = XGBClassifier( \n",
    "                                learning_rate =0.1, \n",
    "                                 n_estimators=2000\n",
    "                               , max_depth=5\n",
    "                               , min_child_weight=1\n",
    "                               , gamma=0.2\n",
    "                               , subsample=0.8\n",
    "                               , colsample_bytree=0.8\n",
    "                               , reg_alpha=0.01\n",
    "                               , reg_lambda=0.01\n",
    "                               , objective= 'binary:logistic'\n",
    "                               , n_jobs=4\n",
    "                               , \n",
    "                                random_state=456)\n",
    "\n",
    "# Decision Tree\n",
    "dt_no_SMOTE = DecisionTreeClassifier(max_depth=5, random_state=456)\n",
    "\n",
    "# Random Forest\n",
    "rf_no_SMOTE = RandomForestClassifier(max_depth=5, random_state=456)"
   ]
  },
  {
   "cell_type": "code",
   "execution_count": 56,
   "metadata": {},
   "outputs": [],
   "source": [
    "# Using Synthetic Data\n",
    "xgb_with_SMOTE.fit(X_res_df, y_res_Series)\n",
    "dt_with_SMOTE.fit(X_res_df, y_res_Series)\n",
    "rf_with_SMOTE.fit(X_res_df, y_res_Series)\n",
    "\n",
    "# Using Orignal Data\n",
    "xgb_no_SMOTE.fit(X_train_val, y_train_val)\n",
    "dt_no_SMOTE.fit(X_train_val, y_train_val)\n",
    "rf_no_SMOTE.fit(X_train_val, y_train_val);"
   ]
  },
  {
   "cell_type": "code",
   "execution_count": 57,
   "metadata": {},
   "outputs": [],
   "source": [
    "# Save models\n",
    "pickle.dump(xgb_with_SMOTE, open(\"xgb_with_SMOTE.dat\", \"wb\"))\n",
    "pickle.dump(dt_with_SMOTE, open(\"dt_with_SMOTE.dat\", \"wb\"))\n",
    "pickle.dump(rf_with_SMOTE, open(\"rf_with_SMOTE.dat\", \"wb\"))\n",
    "\n",
    "pickle.dump(xgb_no_SMOTE, open(\"xgb_no_SMOTE.dat\", \"wb\"))\n",
    "pickle.dump(dt_no_SMOTE, open(\"dt_no_SMOTE.dat\", \"wb\"))\n",
    "pickle.dump(rf_no_SMOTE, open(\"rf_no_SMOTE.dat\", \"wb\"))"
   ]
  },
  {
   "cell_type": "code",
   "execution_count": 58,
   "metadata": {},
   "outputs": [],
   "source": [
    "def plot_prc(estimator, y_true, marker, color):\n",
    "    \n",
    "    clf = str(estimator).split(',')[0].split('(')[0]\n",
    "    \n",
    "    y_probs = estimator.predict_proba(X_test)\n",
    "    y_probs = y_probs[:, 1]\n",
    "    precision, recall, thresholds = precision_recall_curve(y_true, y_probs)\n",
    "    # calculate precision-recall AUC\n",
    "    auc_ = auc(recall, precision)\n",
    "    \n",
    "    # calculate average precision score\n",
    "    ap = average_precision_score(y_true, y_probs, average='macro')\n",
    "    \n",
    "    print('%s: auc=%.3f ap=%.3f' % (clf, auc_, ap))\n",
    "    \n",
    "    # plot no skill\n",
    "    plt.plot([0, 1], [pos_rate, pos_rate], linestyle='--')\n",
    "    \n",
    "    # plot the roc curve for the model\n",
    "    plt.plot(recall, precision, marker=marker, color = color, label = clf)\n",
    "    plt.xlim([0,1.01])\n",
    "    plt.ylim([0,1.01])\n",
    "    plt.xlabel('Recall')\n",
    "    plt.ylabel('Precision')\n",
    "    plt.legend()"
   ]
  },
  {
   "cell_type": "code",
   "execution_count": 59,
   "metadata": {},
   "outputs": [
    {
     "name": "stdout",
     "output_type": "stream",
     "text": [
      "XGBClassifier: auc=0.652 ap=0.656\n",
      "RandomForestClassifier: auc=0.483 ap=0.495\n",
      "DecisionTreeClassifier: auc=0.462 ap=0.403\n"
     ]
    },
    {
     "data": {
      "image/png": "[encoded data removed]",
      "text/plain": [
       "<Figure size 800x800 with 1 Axes>"
      ]
     },
     "metadata": {},
     "output_type": "display_data"
    }
   ],
   "source": [
    "plt.figure(figsize = (8,8))\n",
    "plot_prc(xgb_with_SMOTE, y_test, 'd' ,'k')\n",
    "plot_prc(rf_with_SMOTE, y_test, 'x','g')\n",
    "plot_prc(dt_with_SMOTE, y_test, '.' ,'b')"
   ]
  },
  {
   "cell_type": "code",
   "execution_count": 60,
   "metadata": {},
   "outputs": [
    {
     "name": "stdout",
     "output_type": "stream",
     "text": [
      "XGBClassifier: auc=0.644 ap=0.649\n",
      "RandomForestClassifier: auc=0.620 ap=0.626\n",
      "DecisionTreeClassifier: auc=0.527 ap=0.411\n"
     ]
    },
    {
     "data": {
      "image/png": "[encoded data removed]",
      "text/plain": [
       "<Figure size 800x800 with 1 Axes>"
      ]
     },
     "metadata": {},
     "output_type": "display_data"
    }
   ],
   "source": [
    "plt.figure(figsize = (8,8))\n",
    "plot_prc(xgb_no_SMOTE, y_test, 'd' ,'k')\n",
    "plot_prc(rf_no_SMOTE, y_test, 'x','g')\n",
    "plot_prc(dt_no_SMOTE, y_test, '.' ,'b')"
   ]
  },
  {
   "cell_type": "markdown",
   "metadata": {},
   "source": [
    "### Feature Engineering"
   ]
  },
  {
   "cell_type": "code",
   "execution_count": null,
   "metadata": {},
   "outputs": [],
   "source": [
    "# Features\n",
    "train_eval_test.columns.to_list"
   ]
  }
 ],
 "metadata": {
  "kernelspec": {
   "display_name": "Python 2",
   "language": "python",
   "name": "python2"
  },
  "language_info": {
   "codemirror_mode": {
    "name": "ipython",
    "version": 2
   },
   "file_extension": ".py",
   "mimetype": "text/x-python",
   "name": "python",
   "nbconvert_exporter": "python",
   "pygments_lexer": "ipython2",
   "version": "2.7.6"
  }
 },
 "nbformat": 4,
 "nbformat_minor": 2
}
