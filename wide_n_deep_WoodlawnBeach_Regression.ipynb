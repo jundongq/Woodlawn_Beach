{
 "cells": [
  {
   "cell_type": "code",
   "execution_count": 1,
   "metadata": {},
   "outputs": [
    {
     "name": "stderr",
     "output_type": "stream",
     "text": [
      "/Users/JundongQiao/anaconda/lib/python2.7/site-packages/h5py/__init__.py:36: FutureWarning: Conversion of the second argument of issubdtype from `float` to `np.floating` is deprecated. In future, it will be treated as `np.float64 == np.dtype(float).type`.\n",
      "  from ._conv import register_converters as _register_converters\n"
     ]
    }
   ],
   "source": [
    "from __future__ import absolute_import\n",
    "from __future__ import division\n",
    "from __future__ import print_function\n",
    "\n",
    "import time\n",
    "\n",
    "import numpy as np\n",
    "import pandas as pd\n",
    "import os\n",
    "import getpass\n",
    "import tensorflow as tf"
   ]
  },
  {
   "cell_type": "code",
   "execution_count": 2,
   "metadata": {},
   "outputs": [],
   "source": [
    "from sklearn.model_selection import train_test_split"
   ]
  },
  {
   "cell_type": "code",
   "execution_count": 3,
   "metadata": {},
   "outputs": [],
   "source": [
    "import matplotlib.pylab as plt\n",
    "% matplotlib inline"
   ]
  },
  {
   "cell_type": "code",
   "execution_count": 4,
   "metadata": {},
   "outputs": [
    {
     "name": "stdout",
     "output_type": "stream",
     "text": [
      "Using TensorFlow version 1.6.0\n"
     ]
    }
   ],
   "source": [
    "tf.logging.set_verbosity(tf.logging.INFO) \n",
    "# Set to INFO for tracking training, default is WARN \n",
    "\n",
    "print(\"Using TensorFlow version %s\" % (tf.__version__)) "
   ]
  },
  {
   "cell_type": "markdown",
   "metadata": {},
   "source": [
    "### Import Data"
   ]
  },
  {
   "cell_type": "code",
   "execution_count": 15,
   "metadata": {},
   "outputs": [],
   "source": [
    "# Import Data\n",
    "DATA_DIR ='/Users/{}/Dropbox/VirtualBeach/Regression'.format(getpass.getuser())\n",
    "train_eval_test = pd.read_csv(os.path.join(DATA_DIR, 'Woodlawn_2008_2018_16_features_target.csv'), header='infer', sep=',', index_col=0)\n",
    "train_eval_test.reindex(range(len(train_eval_test)))\n",
    "\n",
    "ecoli_threshold = 235.\n",
    "X = train_eval_test.iloc[:,2:].copy()\n",
    "y = train_eval_test.iloc[:,1].copy()\n",
    "\n",
    "X_train_val, X_test, y_train_val, y_test = train_test_split(X, y, test_size = 0.2)"
   ]
  },
  {
   "cell_type": "code",
   "execution_count": 16,
   "metadata": {},
   "outputs": [
    {
     "data": {
      "image/png": "[encoded data removed]",
      "text/plain": [
       "<Figure size 600x400 with 1 Axes>"
      ]
     },
     "metadata": {},
     "output_type": "display_data"
    }
   ],
   "source": [
    "y.hist(bins=20);"
   ]
  },
  {
   "cell_type": "code",
   "execution_count": 17,
   "metadata": {},
   "outputs": [
    {
     "name": "stdout",
     "output_type": "stream",
     "text": [
      "input function configured\n"
     ]
    }
   ],
   "source": [
    "# https://www.tensorflow.org/api_docs/python/tf/estimator/inputs/pandas_input_fn\n",
    "def generate_input_fn(df, labels, num_epochs=None, shuffle=True, batch_size=BATCH_SIZE):\n",
    "\n",
    "    return tf.estimator.inputs.pandas_input_fn(\n",
    "        x=df,\n",
    "        y=labels,\n",
    "        batch_size=batch_size,\n",
    "        num_epochs=num_epochs,\n",
    "        shuffle=shuffle)\n",
    "\n",
    "print('input function configured')"
   ]
  },
  {
   "cell_type": "code",
   "execution_count": 18,
   "metadata": {},
   "outputs": [],
   "source": [
    "COLUMNS = list(X.columns)"
   ]
  },
  {
   "cell_type": "code",
   "execution_count": 19,
   "metadata": {},
   "outputs": [
    {
     "data": {
      "text/plain": [
       "['Lake_Turb_NTU',\n",
       " 'Local_Rain24_in',\n",
       " 'BarPressureInst_inhg',\n",
       " 'Stream_Turb_NTU',\n",
       " 'WaveHt_Ft',\n",
       " 'Perp_WaveDir_24hr',\n",
       " 'AirportRain24_in',\n",
       " 'WindDirInst_deg',\n",
       " 'Perp_WaveHt_24hr',\n",
       " 'CloudCover_24hr',\n",
       " 'AirportRain48_in',\n",
       " 'WindSpInst_mph',\n",
       " 'NvWater_24hr',\n",
       " 'AirportRain48W_in',\n",
       " 'WaterTemp_24hr',\n",
       " 'WindSpAnt24_mph']"
      ]
     },
     "execution_count": 19,
     "metadata": {},
     "output_type": "execute_result"
    }
   ],
   "source": [
    "COLUMNS"
   ]
  },
  {
   "cell_type": "markdown",
   "metadata": {},
   "source": [
    "### Continuous Columns"
   ]
  },
  {
   "cell_type": "code",
   "execution_count": 20,
   "metadata": {},
   "outputs": [
    {
     "name": "stdout",
     "output_type": "stream",
     "text": [
      "Continuous columns configured\n"
     ]
    }
   ],
   "source": [
    "# Continuous base columns.\n",
    "Lake_Turb_NTU = tf.feature_column.numeric_column(\"Lake_Turb_NTU\")\n",
    "Local_Rain24_in = tf.feature_column.numeric_column(\"Local_Rain24_in\")\n",
    "BarPressureInst_inhg = tf.feature_column.numeric_column(\"BarPressureInst_inhg\")\n",
    "WaveHt_Ft  = tf.feature_column.numeric_column(\"WaveHt_Ft\")\n",
    "Perp_WaveDir_24hr = tf.feature_column.numeric_column(\"Perp_WaveDir_24hr\")\n",
    "\n",
    "AirportRain24_in = tf.feature_column.numeric_column(\"AirportRain24_in\")\n",
    "WindDirInst_deg = tf.feature_column.numeric_column(\"WindDirInst_deg\")\n",
    "CloudCover_24hr = tf.feature_column.numeric_column(\"CloudCover_24hr\")\n",
    "AirportRain48_in  = tf.feature_column.numeric_column(\"AirportRain48_in\")\n",
    "WindSpInst_mph = tf.feature_column.numeric_column(\"WindSpInst_mph\")\n",
    "\n",
    "NvWater_24hr = tf.feature_column.numeric_column(\"NvWater_24hr\")\n",
    "AirportRain48W_in = tf.feature_column.numeric_column(\"AirportRain48W_in\")\n",
    "WaterTemp_24hr = tf.feature_column.numeric_column(\"WaterTemp_24hr\")\n",
    "WindSpAnt24_mph  = tf.feature_column.numeric_column(\"WindSpAnt24_mph\")\n",
    "Perp_WaveHt_24hr = tf.feature_column.numeric_column(\"Perp_WaveHt_24hr\")\n",
    "\n",
    "Stream_Turb_NTU = tf.feature_column.numeric_column(\"Stream_Turb_NTU\")\n",
    "print('Continuous columns configured')"
   ]
  },
  {
   "cell_type": "markdown",
   "metadata": {},
   "source": [
    "### Feature Transformation\n",
    "* Bucketizing\n",
    "* Crossing"
   ]
  },
  {
   "cell_type": "code",
   "execution_count": 10,
   "metadata": {},
   "outputs": [
    {
     "data": {
      "text/plain": [
       "count    641.000000\n",
       "mean       0.113510\n",
       "std        0.285661\n",
       "min        0.000000\n",
       "25%        0.000000\n",
       "50%        0.000000\n",
       "75%        0.070000\n",
       "max        2.490000\n",
       "Name: AirportRain24_in, dtype: float64"
      ]
     },
     "execution_count": 10,
     "metadata": {},
     "output_type": "execute_result"
    }
   ],
   "source": [
    "X.AirportRain24_in.describe()"
   ]
  },
  {
   "cell_type": "code",
   "execution_count": 11,
   "metadata": {},
   "outputs": [
    {
     "data": {
      "image/png": "[encoded data removed]",
      "text/plain": [
       "<Figure size 600x400 with 1 Axes>"
      ]
     },
     "metadata": {},
     "output_type": "display_data"
    }
   ],
   "source": [
    "X.AirportRain24_in.hist(bins=20);"
   ]
  },
  {
   "cell_type": "code",
   "execution_count": 12,
   "metadata": {},
   "outputs": [
    {
     "data": {
      "image/png": "[encoded data removed]",
      "text/plain": [
       "<Figure size 600x400 with 1 Axes>"
      ]
     },
     "metadata": {},
     "output_type": "display_data"
    }
   ],
   "source": [
    "X.AirportRain48_in.hist(bins=20);"
   ]
  },
  {
   "cell_type": "code",
   "execution_count": 13,
   "metadata": {},
   "outputs": [
    {
     "data": {
      "text/plain": [
       "count    641.000000\n",
       "mean      -0.339944\n",
       "std        0.363270\n",
       "min       -1.811840\n",
       "25%       -0.546814\n",
       "50%       -0.278813\n",
       "75%       -0.071636\n",
       "max        0.423006\n",
       "Name: Perp_WaveHt_24hr, dtype: float64"
      ]
     },
     "execution_count": 13,
     "metadata": {},
     "output_type": "execute_result"
    }
   ],
   "source": [
    "X.Perp_WaveHt_24hr.describe()"
   ]
  },
  {
   "cell_type": "code",
   "execution_count": 14,
   "metadata": {},
   "outputs": [
    {
     "data": {
      "image/png": "[encoded data removed]",
      "text/plain": [
       "<Figure size 600x400 with 1 Axes>"
      ]
     },
     "metadata": {},
     "output_type": "display_data"
    }
   ],
   "source": [
    "X.Perp_WaveHt_24hr.hist(bins=20);"
   ]
  },
  {
   "cell_type": "code",
   "execution_count": 15,
   "metadata": {},
   "outputs": [
    {
     "data": {
      "image/png": "[encoded data removed]",
      "text/plain": [
       "<Figure size 600x400 with 1 Axes>"
      ]
     },
     "metadata": {},
     "output_type": "display_data"
    }
   ],
   "source": [
    "X.Perp_WaveDir_24hr.hist(bins=20);"
   ]
  },
  {
   "cell_type": "code",
   "execution_count": 16,
   "metadata": {},
   "outputs": [
    {
     "data": {
      "image/png": "[encoded data removed]",
      "text/plain": [
       "<Figure size 600x400 with 1 Axes>"
      ]
     },
     "metadata": {},
     "output_type": "display_data"
    }
   ],
   "source": [
    "X.BarPressureInst_inhg.hist(bins=20);"
   ]
  },
  {
   "cell_type": "code",
   "execution_count": 18,
   "metadata": {},
   "outputs": [
    {
     "data": {
      "text/plain": [
       "count    641.000000\n",
       "mean      29.626178\n",
       "std        0.410317\n",
       "min       28.710000\n",
       "25%       29.240000\n",
       "50%       29.730000\n",
       "75%       30.000000\n",
       "max       30.390000\n",
       "Name: BarPressureInst_inhg, dtype: float64"
      ]
     },
     "execution_count": 18,
     "metadata": {},
     "output_type": "execute_result"
    }
   ],
   "source": [
    "X.BarPressureInst_inhg.describe()"
   ]
  },
  {
   "cell_type": "code",
   "execution_count": 17,
   "metadata": {},
   "outputs": [
    {
     "data": {
      "image/png": "[encoded data removed]",
      "text/plain": [
       "<Figure size 600x400 with 1 Axes>"
      ]
     },
     "metadata": {},
     "output_type": "display_data"
    }
   ],
   "source": [
    "X.WaveHt_Ft.hist(bins=20);"
   ]
  },
  {
   "cell_type": "code",
   "execution_count": 11,
   "metadata": {},
   "outputs": [],
   "source": [
    "# Transformations.\n",
    "AirportRain24_in_buckets = tf.feature_column.bucketized_column(\n",
    "    AirportRain24_in, boundaries=[ 0.25, 0.5, 0.75, 1., 1.5, 2., 2.5])\n",
    "AirportRain48_in_buckets = tf.feature_column.bucketized_column(\n",
    "    AirportRain48_in, boundaries=[ 0.25, 0.5, 0.75, 1., 1.5, 2., 2.5])\n",
    "\n",
    "Perp_WaveDir_24hr_buckets = tf.feature_column.bucketized_column(\n",
    "    Perp_WaveDir_24hr, boundaries = list(np.linspace(-1., 1., 9)))\n",
    "Perp_WaveHt_24hr_buckets = tf.feature_column.bucketized_column(\n",
    "    Perp_WaveHt_24hr, boundaries = list(np.linspace(-1.5, 0.5, 9)))\n",
    "\n",
    "BarPressureInst_inhg_buckets = tf.feature_column.bucketized_column(\n",
    "    BarPressureInst_inhg, boundaries = list(np.linspace(28.5, 30.5, 9)))\n",
    "WaveHt_Ft_buckets = tf.feature_column.bucketized_column(\n",
    "    WaveHt_Ft, boundaries = list(np.linspace(0, 35, 9)))"
   ]
  },
  {
   "cell_type": "code",
   "execution_count": 21,
   "metadata": {},
   "outputs": [],
   "source": [
    "AirportRain_24_48 = tf.feature_column.crossed_column(\n",
    "    [AirportRain24_in_buckets, AirportRain24_in_buckets], hash_bucket_size=int(1e6))\n",
    "\n",
    "Perp_Wave_Dir_Ht = tf.feature_column.crossed_column(\n",
    "    [Perp_WaveDir_24hr_buckets, Perp_WaveHt_24hr_buckets], hash_bucket_size=int(1e6))\n",
    "\n",
    "BarPressureInst_WaveHt = tf.feature_column.crossed_column(\n",
    "    [BarPressureInst_inhg_buckets, WaveHt_Ft_buckets], hash_bucket_size=int(1e6))"
   ]
  },
  {
   "cell_type": "code",
   "execution_count": 22,
   "metadata": {},
   "outputs": [],
   "source": [
    "wide_columns = [AirportRain24_in_buckets, AirportRain48_in_buckets,\n",
    "               Perp_WaveDir_24hr_buckets, Perp_WaveHt_24hr_buckets,\n",
    "               AirportRain_24_48, Perp_Wave_Dir_Ht,\n",
    "               BarPressureInst_inhg_buckets, WaveHt_Ft_buckets,\n",
    "               BarPressureInst_WaveHt]\n",
    "\n",
    "deep_columns = [Lake_Turb_NTU, Local_Rain24_in, BarPressureInst_inhg, Stream_Turb_NTU, WaveHt_Ft, \n",
    "                WindDirInst_deg, CloudCover_24hr, WindSpInst_mph, NvWater_24hr, WaterTemp_24hr, WindSpAnt24_mph]"
   ]
  },
  {
   "cell_type": "markdown",
   "metadata": {},
   "source": [
    "*tf.estimator.DNNLinearCombinedRegressor*\n",
    "https://www.tensorflow.org/api_docs/python/tf/estimator/DNNLinearCombinedRegressor\n",
    "```\n",
    "__init__(\n",
    "    model_dir=None,\n",
    "    linear_feature_columns=None,\n",
    "    linear_optimizer='Ftrl',\n",
    "    dnn_feature_columns=None,\n",
    "    dnn_optimizer='Adagrad',\n",
    "    dnn_hidden_units=None,\n",
    "    dnn_activation_fn=tf.nn.relu,\n",
    "    dnn_dropout=None,\n",
    "    label_dimension=1,\n",
    "    weight_column=None,\n",
    "    input_layer_partitioner=None,\n",
    "    config=None,\n",
    "    warm_start_from=None,\n",
    "    loss_reduction=losses.Reduction.SUM,\n",
    "    batch_norm=False,\n",
    "    linear_sparse_combiner='sum'\n",
    ")\n",
    "```"
   ]
  },
  {
   "cell_type": "code",
   "execution_count": 67,
   "metadata": {},
   "outputs": [
    {
     "name": "stdout",
     "output_type": "stream",
     "text": [
      "Model directory = WoodlawnBeach_Regression_models/model_WIDE_AND_DEEP1541111452\n",
      "estimator built\n"
     ]
    }
   ],
   "source": [
    "def create_model_dir(model_type):\n",
    "    return 'WoodlawnBeach_Regression_models/model_' + model_type + str(int(time.time()))\n",
    "\n",
    "# If new_model=False, pass in the desired model_dir \n",
    "def get_model(model_type, new_model=False, model_dir=None):\n",
    "    if new_model or model_dir is None:\n",
    "        model_dir = create_model_dir(model_type) # Comment out this line to continue training a existing model\n",
    "    print(\"Model directory = %s\" % model_dir)\n",
    "    \n",
    "    m = None\n",
    "    \n",
    "    # Linear Classifier\n",
    "    if model_type == 'WIDE':\n",
    "        m = tf.estimator.LinearRegressor(\n",
    "            model_dir=model_dir, \n",
    "            feature_columns=wide_columns)\n",
    "\n",
    "    # Deep Neural Net Classifier\n",
    "    if model_type == 'DEEP':\n",
    "        m = tf.estimator.DNNRegressor(\n",
    "            model_dir=model_dir,\n",
    "            feature_columns=deep_columns,\n",
    "            hidden_units=[100, 50])\n",
    "\n",
    "    # Combined Linear and Deep Classifier\n",
    "    if model_type == 'WIDE_AND_DEEP':\n",
    "        m = tf.estimator.DNNLinearCombinedRegressor(\n",
    "                model_dir=model_dir,\n",
    "                linear_feature_columns=wide_columns,\n",
    "                linear_optimizer = 'Ftrl',\n",
    "            \n",
    "                dnn_feature_columns=deep_columns,\n",
    "                dnn_optimizer= 'RMSProp',\n",
    "                dnn_hidden_units=[200, 100, 75]\n",
    "                )\n",
    "        \n",
    "    print('estimator built')\n",
    "    \n",
    "    return m, model_dir\n",
    "    \n",
    "MODEL_TYPE = 'WIDE_AND_DEEP'\n",
    "model_dir = create_model_dir(model_type=MODEL_TYPE)\n",
    "m, model_dir = get_model(model_type = MODEL_TYPE, model_dir=model_dir)"
   ]
  },
  {
   "cell_type": "code",
   "execution_count": 68,
   "metadata": {},
   "outputs": [
    {
     "name": "stdout",
     "output_type": "stream",
     "text": [
      "fit done\n",
      "CPU times: user 12.4 s, sys: 1.42 s, total: 13.8 s\n",
      "Wall time: 11 s\n"
     ]
    }
   ],
   "source": [
    "%%time \n",
    "BATCH_SIZE = 16\n",
    "m.train(input_fn=generate_input_fn(X_train_val, y_train_val, BATCH_SIZE), steps=2000)\n",
    "\n",
    "print('fit done')"
   ]
  },
  {
   "cell_type": "code",
   "execution_count": 69,
   "metadata": {},
   "outputs": [],
   "source": [
    "predict_input_fn = tf.estimator.inputs.pandas_input_fn(\n",
    "        x=X_test,\n",
    "        batch_size=len(X_test),\n",
    "        num_epochs=1,\n",
    "        shuffle=False)"
   ]
  },
  {
   "cell_type": "code",
   "execution_count": 70,
   "metadata": {},
   "outputs": [
    {
     "name": "stdout",
     "output_type": "stream",
     "text": [
      "evaluate done\n"
     ]
    }
   ],
   "source": [
    "results = m.evaluate(input_fn=generate_input_fn(X_test, y_test, num_epochs=1, shuffle=False), \n",
    "                     steps=None)\n",
    "print('evaluate done')\n"
   ]
  },
  {
   "cell_type": "code",
   "execution_count": 71,
   "metadata": {},
   "outputs": [
    {
     "data": {
      "text/plain": [
       "{'average_loss': 0.28424206, 'global_step': 512, 'loss': 4.0741363}"
      ]
     },
     "execution_count": 71,
     "metadata": {},
     "output_type": "execute_result"
    }
   ],
   "source": [
    "results"
   ]
  },
  {
   "cell_type": "code",
   "execution_count": 63,
   "metadata": {},
   "outputs": [],
   "source": [
    "from sklearn.metrics import r2_score"
   ]
  },
  {
   "cell_type": "code",
   "execution_count": 72,
   "metadata": {},
   "outputs": [],
   "source": [
    "predictions = m.predict(input_fn=predict_input_fn)\n",
    "y_pred = []\n",
    "for prediction in predictions:\n",
    "#     print (prediction)\n",
    "#     print (prediction['predictions'][0])\n",
    "    y_pred.append(prediction['predictions'][0])\n",
    "    # print(\"Predictions:    {} with probabilities {}\\n\".format(prediction[\"classes\"], prediction[\"probabilities\"]))"
   ]
  },
  {
   "cell_type": "code",
   "execution_count": 73,
   "metadata": {},
   "outputs": [
    {
     "name": "stdout",
     "output_type": "stream",
     "text": [
      "0.1761414859954612\n"
     ]
    }
   ],
   "source": [
    "print (r2_score(y_test, y_pred))"
   ]
  },
  {
   "cell_type": "code",
   "execution_count": 74,
   "metadata": {},
   "outputs": [
    {
     "data": {
      "text/plain": [
       "(0, 3.5)"
      ]
     },
     "execution_count": 74,
     "metadata": {},
     "output_type": "execute_result"
    },
    {
     "data": {
      "image/png": "[encoded data removed]",
      "text/plain": [
       "<Figure size 600x400 with 1 Axes>"
      ]
     },
     "metadata": {},
     "output_type": "display_data"
    }
   ],
   "source": [
    "plt.plot(y_test, y_pred, 'ko', alpha=0.5)\n",
    "plt.xlim((0, 3.5))\n",
    "plt.ylim((0, 3.5))"
   ]
  },
  {
   "cell_type": "code",
   "execution_count": null,
   "metadata": {},
   "outputs": [],
   "source": []
  }
 ],
 "metadata": {
  "kernelspec": {
   "display_name": "Python 2",
   "language": "python",
   "name": "python2"
  },
  "language_info": {
   "codemirror_mode": {
    "name": "ipython",
    "version": 2
   },
   "file_extension": ".py",
   "mimetype": "text/x-python",
   "name": "python",
   "nbconvert_exporter": "python",
   "pygments_lexer": "ipython2",
   "version": "2.7.12"
  }
 },
 "nbformat": 4,
 "nbformat_minor": 2
}
